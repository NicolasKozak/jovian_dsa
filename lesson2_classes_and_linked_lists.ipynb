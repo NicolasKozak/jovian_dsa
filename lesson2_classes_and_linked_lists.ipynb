{
  "cells": [
    {
      "cell_type": "markdown",
      "metadata": {
        "id": "view-in-github",
        "colab_type": "text"
      },
      "source": [
        "<a href=\"https://colab.research.google.com/github/NicolasKozak/jovian_dsa/blob/main/lesson2_classes_and_linked_lists.ipynb\" target=\"_parent\"><img src=\"https://colab.research.google.com/assets/colab-badge.svg\" alt=\"Open In Colab\"/></a>"
      ]
    },
    {
      "cell_type": "code",
      "execution_count": 1,
      "id": "57542264",
      "metadata": {
        "colab": {
          "base_uri": "https://localhost:8080/"
        },
        "id": "57542264",
        "outputId": "ec0c62c0-4515-4003-86c5-851c4f52fd18"
      },
      "outputs": [
        {
          "output_type": "stream",
          "name": "stdout",
          "text": [
            "\u001b[?25l\r\u001b[K     |████▊                           | 10 kB 22.0 MB/s eta 0:00:01\r\u001b[K     |█████████▌                      | 20 kB 8.1 MB/s eta 0:00:01\r\u001b[K     |██████████████▎                 | 30 kB 5.5 MB/s eta 0:00:01\r\u001b[K     |███████████████████             | 40 kB 5.1 MB/s eta 0:00:01\r\u001b[K     |███████████████████████▉        | 51 kB 2.3 MB/s eta 0:00:01\r\u001b[K     |████████████████████████████▋   | 61 kB 2.7 MB/s eta 0:00:01\r\u001b[K     |████████████████████████████████| 68 kB 2.1 MB/s \n",
            "\u001b[?25h  Building wheel for uuid (setup.py) ... \u001b[?25l\u001b[?25hdone\n"
          ]
        }
      ],
      "source": [
        "# Jovian Commit Essentials\n",
        "# Please retain and execute this cell without modifying the contents for `jovian.commit` to work\n",
        "!pip install jovian --upgrade -q\n",
        "import jovian\n",
        "jovian.set_project('python-classes-and-linked-lists')\n",
        "jovian.set_colab_id('1MxVY7YvmIA-yW-RsG6s31G-wR_aJV34K')"
      ]
    },
    {
      "cell_type": "markdown",
      "id": "banned-tissue",
      "metadata": {
        "id": "banned-tissue"
      },
      "source": [
        "# Introduction to Python Classes and Linked Lists\n",
        "\n",
        "### Part 2 of \"Data Structures and Algorithms in Python\"\n",
        "\n",
        "[Data Structures and Algorithms in Python](https://jovian.ai/learn/data-structures-and-algorithms-in-python) is a beginner-friendly introduction to common data structures (linked lists, stacks, queues, graphs) and algorithms (search, sorting, recursion, dynamic programming) in Python, designed to help you prepare for coding interviews and assessments. "
      ]
    },
    {
      "cell_type": "markdown",
      "id": "defined-range",
      "metadata": {
        "id": "defined-range"
      },
      "source": [
        "## How to Run the Code\n",
        "\n",
        "The best way to learn the material is to execute the code and experiment with it yourself. This tutorial is an executable [Jupyter notebook](https://jupyter.org). You can _run_ this tutorial and experiment with the code examples in a couple of ways: *using free online resources* (recommended) or *on your computer*.\n",
        "\n",
        "#### Option 1: Running using free online resources (1-click, recommended)\n",
        "\n",
        "The easiest way to start executing the code is to click the **Run** button at the top of this page and select **Run on Binder**. You can also select \"Run on Colab\" or \"Run on Kaggle\", but you'll need to create an account on [Google Colab](https://colab.research.google.com) or [Kaggle](https://kaggle.com) to use these platforms.\n",
        "\n",
        "\n",
        "#### Option 2: Running on your computer locally\n",
        "\n",
        "To run the code on your computer locally, you'll need to set up [Python](https://www.python.org), download the notebook and install the required libraries. We recommend using the [Conda](https://docs.conda.io/projects/conda/en/latest/user-guide/install/) distribution of Python. Click the **Run** button at the top of this page, select the **Run Locally** option, and follow the instructions.\n",
        "\n",
        ">  **Jupyter Notebooks**: This notebook is made of _cells_. Each cell can contain code written in Python or explanations in plain English. You can execute code cells and view the results instantly within the notebook. Jupyter is a powerful platform for experimentation and analysis. Don't be afraid to mess around with the code & break things - you'll learn a lot by encountering and fixing errors. You can use the \"Kernel > Restart & Clear Output\" menu option to clear all outputs and start again from the top."
      ]
    },
    {
      "cell_type": "markdown",
      "id": "eligible-kuwait",
      "metadata": {
        "id": "eligible-kuwait"
      },
      "source": [
        "## Problem\n",
        "\n",
        "In this notebook, we'll focus our discussion on the following problem:\n",
        "\n",
        "> **QUESTION**: Write a function to reverse a linked list\n",
        "\n",
        "Before we answer this question, we need to answer:\n",
        "\n",
        "- What do we mean by linked list? \n",
        "- How do we create a linked list in Python?\n",
        "- How do we store numbers in a linked list?\n",
        "- How do we retrieve numbers in a linked list\n"
      ]
    },
    {
      "cell_type": "code",
      "execution_count": null,
      "id": "resident-weather",
      "metadata": {
        "id": "resident-weather"
      },
      "outputs": [],
      "source": [
        "!pip install jovian --upgrade --quiet"
      ]
    },
    {
      "cell_type": "code",
      "execution_count": null,
      "id": "quantitative-dream",
      "metadata": {
        "id": "quantitative-dream"
      },
      "outputs": [],
      "source": [
        "import jovian"
      ]
    },
    {
      "cell_type": "code",
      "execution_count": null,
      "id": "available-humor",
      "metadata": {
        "id": "available-humor",
        "outputId": "98259969-4b69-4907-ee62-1d9487ad5617"
      },
      "outputs": [
        {
          "data": {
            "application/javascript": [
              "window.require && require([\"base/js/namespace\"],function(Jupyter){Jupyter.notebook.save_checkpoint()})"
            ],
            "text/plain": [
              "<IPython.core.display.Javascript object>"
            ]
          },
          "metadata": {},
          "output_type": "display_data"
        },
        {
          "name": "stdout",
          "output_type": "stream",
          "text": [
            "[jovian] Attempting to save notebook..\u001b[0m\n",
            "[jovian] Updating notebook \"aakashns/python-classes-and-linked-lists\" on https://jovian.ai/\u001b[0m\n",
            "[jovian] Uploading notebook..\u001b[0m\n",
            "[jovian] Capturing environment..\u001b[0m\n",
            "[jovian] Committed successfully! https://jovian.ai/aakashns/python-classes-and-linked-lists\u001b[0m\n"
          ]
        },
        {
          "data": {
            "text/plain": [
              "'https://jovian.ai/aakashns/python-classes-and-linked-lists'"
            ]
          },
          "execution_count": 5,
          "metadata": {},
          "output_type": "execute_result"
        }
      ],
      "source": [
        "jovian.commit()"
      ]
    },
    {
      "cell_type": "markdown",
      "id": "prime-lucas",
      "metadata": {
        "id": "prime-lucas"
      },
      "source": [
        "## Linked List\n",
        "\n",
        "A linked list is a _data structure_ used for storing a sequence of elements. It's data with some structure (the sequence).\n",
        "\n",
        "![](https://cdn.programiz.com/sites/tutorial2program/files/linked-list-concept_0.png)\n",
        "\n",
        "We'll implement linked lists which support the following operations:\n",
        "\n",
        "- Create a list with given elements\n",
        "- Display the elements in a list\n",
        "- Find the number of elements in a list\n",
        "- Retrieve the element at a given position\n",
        "- Add or remove element(s)\n",
        "- (can you think of any more?)"
      ]
    },
    {
      "cell_type": "markdown",
      "id": "heard-hungary",
      "metadata": {
        "id": "heard-hungary"
      },
      "source": [
        "### A Quick Primer on Classes in Python\n",
        "\n",
        "Let's create a class for it. A class is a blueprint for creating objects. "
      ]
    },
    {
      "cell_type": "code",
      "execution_count": 2,
      "id": "administrative-spencer",
      "metadata": {
        "id": "administrative-spencer"
      },
      "outputs": [],
      "source": [
        "class Node():\n",
        "    pass"
      ]
    },
    {
      "cell_type": "markdown",
      "id": "pressing-cursor",
      "metadata": {
        "id": "pressing-cursor"
      },
      "source": [
        "We can create an object with nothing in it."
      ]
    },
    {
      "cell_type": "code",
      "execution_count": 3,
      "id": "ignored-hearing",
      "metadata": {
        "colab": {
          "base_uri": "https://localhost:8080/"
        },
        "id": "ignored-hearing",
        "outputId": "67c8279d-e666-418f-f450-266bbef62e83"
      },
      "outputs": [
        {
          "output_type": "execute_result",
          "data": {
            "text/plain": [
              "<__main__.Node at 0x7f11552dc8d0>"
            ]
          },
          "metadata": {},
          "execution_count": 3
        }
      ],
      "source": [
        "Node()"
      ]
    },
    {
      "cell_type": "markdown",
      "id": "future-structure",
      "metadata": {
        "id": "future-structure"
      },
      "source": [
        "We just created an object of the class `Node`. However, we have to way to access the object. We can do so by creating a variable."
      ]
    },
    {
      "cell_type": "code",
      "execution_count": 4,
      "id": "driven-separate",
      "metadata": {
        "id": "driven-separate"
      },
      "outputs": [],
      "source": [
        "node1 = Node()"
      ]
    },
    {
      "cell_type": "markdown",
      "id": "helpful-roberts",
      "metadata": {
        "id": "helpful-roberts"
      },
      "source": [
        "The *variable* `node1` holds a reference the object, and can be used to retrieve the object."
      ]
    },
    {
      "cell_type": "code",
      "execution_count": 5,
      "id": "humanitarian-wireless",
      "metadata": {
        "colab": {
          "base_uri": "https://localhost:8080/"
        },
        "id": "humanitarian-wireless",
        "outputId": "7267f780-9a62-43a2-b387-e57cdf64bc17"
      },
      "outputs": [
        {
          "output_type": "execute_result",
          "data": {
            "text/plain": [
              "<__main__.Node at 0x7f11552e4c90>"
            ]
          },
          "metadata": {},
          "execution_count": 5
        }
      ],
      "source": [
        "node1"
      ]
    },
    {
      "cell_type": "markdown",
      "id": "ready-tours",
      "metadata": {
        "id": "ready-tours"
      },
      "source": [
        "When we call the `Node()` again, it creates a new object."
      ]
    },
    {
      "cell_type": "code",
      "execution_count": 6,
      "id": "mature-reflection",
      "metadata": {
        "id": "mature-reflection"
      },
      "outputs": [],
      "source": [
        "node2 = Node()"
      ]
    },
    {
      "cell_type": "code",
      "execution_count": 7,
      "id": "naval-ocean",
      "metadata": {
        "scrolled": true,
        "colab": {
          "base_uri": "https://localhost:8080/"
        },
        "id": "naval-ocean",
        "outputId": "4304950c-b46f-4bab-910d-6dfdf71cf355"
      },
      "outputs": [
        {
          "output_type": "execute_result",
          "data": {
            "text/plain": [
              "<__main__.Node at 0x7f11552ed1d0>"
            ]
          },
          "metadata": {},
          "execution_count": 7
        }
      ],
      "source": [
        "node2"
      ]
    },
    {
      "cell_type": "markdown",
      "id": "tamil-genealogy",
      "metadata": {
        "id": "tamil-genealogy"
      },
      "source": [
        "You can tell that the objects are different because they are at different addresses in the RAM (more on that later)."
      ]
    },
    {
      "cell_type": "markdown",
      "id": "acknowledged-senate",
      "metadata": {
        "id": "acknowledged-senate"
      },
      "source": [
        "We can have multiple variables pointing to the same object."
      ]
    },
    {
      "cell_type": "code",
      "execution_count": 8,
      "id": "fabulous-settle",
      "metadata": {
        "id": "fabulous-settle"
      },
      "outputs": [],
      "source": [
        "node3 = node1"
      ]
    },
    {
      "cell_type": "code",
      "execution_count": 10,
      "id": "seven-religion",
      "metadata": {
        "colab": {
          "base_uri": "https://localhost:8080/"
        },
        "id": "seven-religion",
        "outputId": "262dc99b-93d0-42da-a9fa-ddb16bafdb33"
      },
      "outputs": [
        {
          "output_type": "execute_result",
          "data": {
            "text/plain": [
              "<__main__.Node at 0x7f11552e4c90>"
            ]
          },
          "metadata": {},
          "execution_count": 10
        }
      ],
      "source": [
        "node3"
      ]
    },
    {
      "cell_type": "markdown",
      "id": "possible-petroleum",
      "metadata": {
        "id": "possible-petroleum"
      },
      "source": [
        "Our object isn't doing much. Let's give it the ability to store a value. First, we'll store the constant value 0. We can do this using a *constructor*."
      ]
    },
    {
      "cell_type": "code",
      "execution_count": 12,
      "id": "stylish-leonard",
      "metadata": {
        "id": "stylish-leonard"
      },
      "outputs": [],
      "source": [
        "class Node():\n",
        "    def __init__(self):\n",
        "        self.data = 0"
      ]
    },
    {
      "cell_type": "markdown",
      "id": "tired-disclaimer",
      "metadata": {
        "id": "tired-disclaimer"
      },
      "source": [
        "Two things to note:\n",
        "* The double underscores\n",
        "* The self (a replacement for `this`)\n",
        "* `self.data` creates a property called. We can name a property anything we wish (`val`, `number`, `the_thing_inside` etc. )"
      ]
    },
    {
      "cell_type": "code",
      "execution_count": 13,
      "id": "timely-webmaster",
      "metadata": {
        "id": "timely-webmaster"
      },
      "outputs": [],
      "source": [
        "node4 = Node()"
      ]
    },
    {
      "cell_type": "markdown",
      "id": "iraqi-destination",
      "metadata": {
        "id": "iraqi-destination"
      },
      "source": [
        "So internally what's happening is that Python first creates an empty object, stores the reference to the empty object in an temporary variable called `self`, calls the `__init__` function with `self` as the argument, which then sets the property `data` on the created object with the value 0."
      ]
    },
    {
      "cell_type": "code",
      "execution_count": 14,
      "id": "automatic-sodium",
      "metadata": {
        "colab": {
          "base_uri": "https://localhost:8080/"
        },
        "id": "automatic-sodium",
        "outputId": "b0b43d8a-a0ff-4844-f489-88d795e186b8"
      },
      "outputs": [
        {
          "output_type": "execute_result",
          "data": {
            "text/plain": [
              "0"
            ]
          },
          "metadata": {},
          "execution_count": 14
        }
      ],
      "source": [
        "node4.data"
      ]
    },
    {
      "cell_type": "markdown",
      "id": "uniform-sentence",
      "metadata": {
        "id": "uniform-sentence"
      },
      "source": [
        "And we can change the value inside the variable."
      ]
    },
    {
      "cell_type": "code",
      "execution_count": 15,
      "id": "liked-dating",
      "metadata": {
        "id": "liked-dating"
      },
      "outputs": [],
      "source": [
        "node4.data = 10"
      ]
    },
    {
      "cell_type": "code",
      "execution_count": 16,
      "id": "collected-entrance",
      "metadata": {
        "colab": {
          "base_uri": "https://localhost:8080/"
        },
        "id": "collected-entrance",
        "outputId": "92c2c2fb-4756-46af-fd3e-dd4be3dc0924"
      },
      "outputs": [
        {
          "output_type": "execute_result",
          "data": {
            "text/plain": [
              "10"
            ]
          },
          "metadata": {},
          "execution_count": 16
        }
      ],
      "source": [
        "node4.data"
      ]
    },
    {
      "cell_type": "markdown",
      "id": "tutorial-hurricane",
      "metadata": {
        "id": "tutorial-hurricane"
      },
      "source": [
        "Let's create nodes with the values 2, 3 and 5"
      ]
    },
    {
      "cell_type": "code",
      "execution_count": 17,
      "id": "deluxe-desktop",
      "metadata": {
        "id": "deluxe-desktop"
      },
      "outputs": [],
      "source": [
        "node1 = Node()\n",
        "node1.data = 2"
      ]
    },
    {
      "cell_type": "code",
      "execution_count": 18,
      "id": "friendly-raising",
      "metadata": {
        "id": "friendly-raising"
      },
      "outputs": [],
      "source": [
        "node2 = Node()\n",
        "node2.data = 3"
      ]
    },
    {
      "cell_type": "code",
      "execution_count": 19,
      "id": "dated-frost",
      "metadata": {
        "id": "dated-frost"
      },
      "outputs": [],
      "source": [
        "node3 = Node()\n",
        "node3.data = 5"
      ]
    },
    {
      "cell_type": "code",
      "execution_count": 20,
      "id": "interpreted-steps",
      "metadata": {
        "colab": {
          "base_uri": "https://localhost:8080/"
        },
        "id": "interpreted-steps",
        "outputId": "72c17361-f4f0-41b2-c354-d2e4ed87aaae"
      },
      "outputs": [
        {
          "output_type": "execute_result",
          "data": {
            "text/plain": [
              "(2, 3, 5)"
            ]
          },
          "metadata": {},
          "execution_count": 20
        }
      ],
      "source": [
        "node1.data, node2.data, node3.data"
      ]
    },
    {
      "cell_type": "markdown",
      "id": "vital-watts",
      "metadata": {
        "id": "vital-watts"
      },
      "source": [
        "While this is OK, there's an easier way to do it."
      ]
    },
    {
      "cell_type": "code",
      "execution_count": 21,
      "id": "narrow-missile",
      "metadata": {
        "id": "narrow-missile"
      },
      "outputs": [],
      "source": [
        "class Node():\n",
        "    def __init__(self, a_number):\n",
        "        self.data = a_number\n",
        "        self.next = None"
      ]
    },
    {
      "cell_type": "code",
      "execution_count": 22,
      "id": "falling-setup",
      "metadata": {
        "id": "falling-setup"
      },
      "outputs": [],
      "source": [
        "node1 = Node(2)\n",
        "node2 = Node(3)\n",
        "node3 = Node(5)"
      ]
    },
    {
      "cell_type": "code",
      "execution_count": 23,
      "id": "typical-anniversary",
      "metadata": {
        "colab": {
          "base_uri": "https://localhost:8080/"
        },
        "id": "typical-anniversary",
        "outputId": "b96f47d1-e20c-4977-d356-42d2775745b3"
      },
      "outputs": [
        {
          "output_type": "execute_result",
          "data": {
            "text/plain": [
              "(2, 3, 5)"
            ]
          },
          "metadata": {},
          "execution_count": 23
        }
      ],
      "source": [
        "node1.data, node2.data, node3.data"
      ]
    },
    {
      "cell_type": "markdown",
      "id": "double-adjustment",
      "metadata": {
        "id": "double-adjustment"
      },
      "source": [
        "Now we are ready to define a class for our Linked list."
      ]
    },
    {
      "cell_type": "code",
      "execution_count": 24,
      "id": "aware-track",
      "metadata": {
        "id": "aware-track"
      },
      "outputs": [],
      "source": [
        "class LinkedList():\n",
        "    def __init__(self):\n",
        "        self.head = None\n"
      ]
    },
    {
      "cell_type": "code",
      "execution_count": 25,
      "id": "entire-value",
      "metadata": {
        "id": "entire-value"
      },
      "outputs": [],
      "source": [
        "list1 = LinkedList()"
      ]
    },
    {
      "cell_type": "code",
      "execution_count": 26,
      "id": "competent-batch",
      "metadata": {
        "id": "competent-batch"
      },
      "outputs": [],
      "source": [
        "list1.head = Node(2)"
      ]
    },
    {
      "cell_type": "code",
      "execution_count": 27,
      "id": "integrated-damages",
      "metadata": {
        "id": "integrated-damages"
      },
      "outputs": [],
      "source": [
        "list1.head.next = Node(3)"
      ]
    },
    {
      "cell_type": "code",
      "execution_count": 28,
      "id": "accepting-correlation",
      "metadata": {
        "id": "accepting-correlation"
      },
      "outputs": [],
      "source": [
        "list1.head.next.next = Node(4)"
      ]
    },
    {
      "cell_type": "code",
      "execution_count": 29,
      "id": "given-quarter",
      "metadata": {
        "colab": {
          "base_uri": "https://localhost:8080/"
        },
        "id": "given-quarter",
        "outputId": "8b9d45a6-7ca7-4c95-80f3-f86649539533"
      },
      "outputs": [
        {
          "output_type": "execute_result",
          "data": {
            "text/plain": [
              "(2, 3, 4)"
            ]
          },
          "metadata": {},
          "execution_count": 29
        }
      ],
      "source": [
        "list1.head.data, list1.head.next.data, list1.head.next.next.data"
      ]
    },
    {
      "cell_type": "markdown",
      "id": "extensive-freedom",
      "metadata": {
        "id": "extensive-freedom"
      },
      "source": [
        "![](https://cdn.programiz.com/sites/tutorial2program/files/linked-list-concept_0.png)"
      ]
    },
    {
      "cell_type": "code",
      "execution_count": 30,
      "id": "adaptive-stuart",
      "metadata": {
        "colab": {
          "base_uri": "https://localhost:8080/"
        },
        "id": "adaptive-stuart",
        "outputId": "5f680f71-94ef-458f-9a4f-09d31a7dd57b"
      },
      "outputs": [
        {
          "output_type": "execute_result",
          "data": {
            "text/plain": [
              "(<__main__.Node at 0x7f115527f990>,\n",
              " <__main__.Node at 0x7f1155276190>,\n",
              " <__main__.Node at 0x7f115527fed0>,\n",
              " None)"
            ]
          },
          "metadata": {},
          "execution_count": 30
        }
      ],
      "source": [
        "list1.head, list1.head.next, list1.head.next.next, list1.head.next.next.next"
      ]
    },
    {
      "cell_type": "markdown",
      "id": "sunrise-focus",
      "metadata": {
        "id": "sunrise-focus"
      },
      "source": [
        "While it's OK to set value like this, we can add a couple of arguments."
      ]
    },
    {
      "cell_type": "code",
      "execution_count": 31,
      "id": "defensive-monitoring",
      "metadata": {
        "id": "defensive-monitoring"
      },
      "outputs": [],
      "source": [
        "class LinkedList():\n",
        "    def __init__(self):\n",
        "        self.head = None\n",
        "        \n",
        "    def append(self, value):\n",
        "        if self.head is None:\n",
        "            self.head = Node(value)\n",
        "        else:\n",
        "            current_node = self.head\n",
        "            while current_node.next is not None:\n",
        "                current_node = current_node.next\n",
        "            current_node.next = Node(value)"
      ]
    },
    {
      "cell_type": "code",
      "execution_count": 32,
      "id": "streaming-bunny",
      "metadata": {
        "id": "streaming-bunny"
      },
      "outputs": [],
      "source": [
        "list2 = LinkedList()\n",
        "list2.append(2)\n",
        "list2.append(3)\n",
        "list2.append(5)"
      ]
    },
    {
      "cell_type": "code",
      "execution_count": 33,
      "id": "novel-treasury",
      "metadata": {
        "colab": {
          "base_uri": "https://localhost:8080/"
        },
        "id": "novel-treasury",
        "outputId": "63d97b1a-d32c-4798-a214-7763f92c529d"
      },
      "outputs": [
        {
          "output_type": "execute_result",
          "data": {
            "text/plain": [
              "(2, 3, 5)"
            ]
          },
          "metadata": {},
          "execution_count": 33
        }
      ],
      "source": [
        "list2.head.data, list2.head.next.data, list2.head.next.next.data"
      ]
    },
    {
      "cell_type": "markdown",
      "id": "constitutional-edinburgh",
      "metadata": {
        "id": "constitutional-edinburgh"
      },
      "source": [
        "Next, let's add a method to print the value in a list."
      ]
    },
    {
      "cell_type": "code",
      "execution_count": 34,
      "id": "involved-helena",
      "metadata": {
        "id": "involved-helena"
      },
      "outputs": [],
      "source": [
        "class LinkedList():\n",
        "    def __init__(self):\n",
        "        self.head = None\n",
        "        \n",
        "    def append(self, value):\n",
        "        if self.head is None:\n",
        "            self.head = Node(value)\n",
        "        else:\n",
        "            current_node = self.head\n",
        "            while current_node.next is not None:\n",
        "                current_node = current_node.next\n",
        "            current_node.next = Node(value)\n",
        "            \n",
        "    def show_elements(self):\n",
        "        current = self.head\n",
        "        while current is not None:\n",
        "            print(current.data)\n",
        "            current = current.next"
      ]
    },
    {
      "cell_type": "code",
      "execution_count": 35,
      "id": "usual-vacation",
      "metadata": {
        "id": "usual-vacation"
      },
      "outputs": [],
      "source": [
        "list2 = LinkedList()\n",
        "list2.append(2)\n",
        "list2.append(3)\n",
        "list2.append(5)"
      ]
    },
    {
      "cell_type": "code",
      "execution_count": 36,
      "id": "rolled-sierra",
      "metadata": {
        "colab": {
          "base_uri": "https://localhost:8080/"
        },
        "id": "rolled-sierra",
        "outputId": "03f13f6d-bf90-4e77-e8f8-bf80aeaa7634"
      },
      "outputs": [
        {
          "output_type": "stream",
          "name": "stdout",
          "text": [
            "2\n",
            "3\n",
            "5\n"
          ]
        }
      ],
      "source": [
        "list2.show_elements()"
      ]
    },
    {
      "cell_type": "markdown",
      "id": "finnish-marriage",
      "metadata": {
        "id": "finnish-marriage"
      },
      "source": [
        "Let's add a couple of more functions: `length` and `get_element` to get an element at a specific position."
      ]
    },
    {
      "cell_type": "code",
      "execution_count": 37,
      "id": "enclosed-warrior",
      "metadata": {
        "id": "enclosed-warrior"
      },
      "outputs": [],
      "source": [
        "class LinkedList():\n",
        "    def __init__(self):\n",
        "        self.head = None\n",
        "        \n",
        "    def append(self, value):\n",
        "        if self.head is None:\n",
        "            self.head = Node(value)\n",
        "        else:\n",
        "            current_node = self.head\n",
        "            while current_node.next is not None:\n",
        "                current_node = current_node.next\n",
        "            current_node.next = Node(value)\n",
        "            \n",
        "    def show_elements(self):\n",
        "        current = self.head\n",
        "        while current is not None:\n",
        "            print(current.data)\n",
        "            current = current.next\n",
        "            \n",
        "    def length(self):\n",
        "        result = 0\n",
        "        current = self.head\n",
        "        while current is not None:\n",
        "            result += 1\n",
        "            current = current.next\n",
        "        return result\n",
        "            \n",
        "    def get_element(self, position):\n",
        "        i = 0\n",
        "        current = self.head\n",
        "        while current is not None:\n",
        "            if i == position:\n",
        "                return current.data\n",
        "            current = current.next\n",
        "            i += 1\n",
        "        return None"
      ]
    },
    {
      "cell_type": "code",
      "execution_count": 38,
      "id": "previous-incentive",
      "metadata": {
        "id": "previous-incentive"
      },
      "outputs": [],
      "source": [
        "list2 = LinkedList()\n",
        "list2.append(2)\n",
        "list2.append(3)\n",
        "list2.append(5)\n",
        "list2.append(9)"
      ]
    },
    {
      "cell_type": "code",
      "execution_count": 39,
      "id": "bizarre-syndication",
      "metadata": {
        "colab": {
          "base_uri": "https://localhost:8080/"
        },
        "id": "bizarre-syndication",
        "outputId": "92f416e5-4043-4d84-b0df-4f4c7bc7cdd5"
      },
      "outputs": [
        {
          "output_type": "execute_result",
          "data": {
            "text/plain": [
              "4"
            ]
          },
          "metadata": {},
          "execution_count": 39
        }
      ],
      "source": [
        "list2.length()"
      ]
    },
    {
      "cell_type": "code",
      "execution_count": 40,
      "id": "active-bracket",
      "metadata": {
        "colab": {
          "base_uri": "https://localhost:8080/"
        },
        "id": "active-bracket",
        "outputId": "36fd571f-3768-40e2-dfe9-008dc06aa86a"
      },
      "outputs": [
        {
          "output_type": "execute_result",
          "data": {
            "text/plain": [
              "2"
            ]
          },
          "metadata": {},
          "execution_count": 40
        }
      ],
      "source": [
        "list2.get_element(0)"
      ]
    },
    {
      "cell_type": "code",
      "execution_count": 41,
      "id": "closing-album",
      "metadata": {
        "colab": {
          "base_uri": "https://localhost:8080/"
        },
        "id": "closing-album",
        "outputId": "3f7cb999-fd19-44b5-bab9-fea696e1c3ac"
      },
      "outputs": [
        {
          "output_type": "execute_result",
          "data": {
            "text/plain": [
              "3"
            ]
          },
          "metadata": {},
          "execution_count": 41
        }
      ],
      "source": [
        "list2.get_element(1)"
      ]
    },
    {
      "cell_type": "code",
      "execution_count": 42,
      "id": "broken-banner",
      "metadata": {
        "colab": {
          "base_uri": "https://localhost:8080/"
        },
        "id": "broken-banner",
        "outputId": "d5e6974d-741f-4390-d19c-860a6f3432b1"
      },
      "outputs": [
        {
          "output_type": "execute_result",
          "data": {
            "text/plain": [
              "5"
            ]
          },
          "metadata": {},
          "execution_count": 42
        }
      ],
      "source": [
        "list2.get_element(2)"
      ]
    },
    {
      "cell_type": "code",
      "execution_count": 43,
      "id": "entitled-houston",
      "metadata": {
        "colab": {
          "base_uri": "https://localhost:8080/"
        },
        "id": "entitled-houston",
        "outputId": "9bb73a74-e2f4-4f3d-b96f-75a1e1ea2632"
      },
      "outputs": [
        {
          "output_type": "execute_result",
          "data": {
            "text/plain": [
              "9"
            ]
          },
          "metadata": {},
          "execution_count": 43
        }
      ],
      "source": [
        "list2.get_element(3)"
      ]
    },
    {
      "cell_type": "markdown",
      "id": "surface-antenna",
      "metadata": {
        "id": "surface-antenna"
      },
      "source": [
        "Given a list of size `N`, the the number of statements executed for each of the steps:\n",
        "\n",
        "- `append`: N steps\n",
        "- `length`: N steps\n",
        "- `get_element`: N steps\n",
        "- `show_element`: N steps\n"
      ]
    },
    {
      "cell_type": "markdown",
      "id": "homeless-prisoner",
      "metadata": {
        "id": "homeless-prisoner"
      },
      "source": [
        "## Reversing a Linked List - Solution\n",
        "\n",
        "Here's a simple program to reverse a linked list."
      ]
    },
    {
      "cell_type": "code",
      "execution_count": 56,
      "id": "dedicated-millennium",
      "metadata": {
        "id": "dedicated-millennium"
      },
      "outputs": [],
      "source": [
        "def reverse(l):\n",
        "    if l.head is None:\n",
        "        return\n",
        "    \n",
        "    current_node = l.head\n",
        "    prev_node = None\n",
        "    \n",
        "    while current_node is not None:\n",
        "        current_node.next, prev_node, current_node = \\\n",
        "        prev_node, current_node, current_node.next\n",
        "        \n",
        "    l.head = prev_node"
      ]
    },
    {
      "cell_type": "code",
      "execution_count": 57,
      "id": "typical-amino",
      "metadata": {
        "id": "typical-amino"
      },
      "outputs": [],
      "source": [
        "list2 = LinkedList()\n",
        "list2.append(2)\n",
        "list2.append(3)\n",
        "list2.append(5)\n",
        "list2.append(9)"
      ]
    },
    {
      "cell_type": "code",
      "execution_count": 58,
      "id": "stunning-creek",
      "metadata": {
        "id": "stunning-creek"
      },
      "outputs": [],
      "source": [
        "reverse(list2)"
      ]
    },
    {
      "cell_type": "code",
      "execution_count": 59,
      "id": "several-tyler",
      "metadata": {
        "colab": {
          "base_uri": "https://localhost:8080/"
        },
        "id": "several-tyler",
        "outputId": "65180ffd-b68e-4693-eb49-5349c4626719"
      },
      "outputs": [
        {
          "output_type": "stream",
          "name": "stdout",
          "text": [
            "9\n",
            "5\n",
            "3\n",
            "2\n"
          ]
        }
      ],
      "source": [
        "list2.show_elements()"
      ]
    },
    {
      "cell_type": "markdown",
      "id": "activated-gentleman",
      "metadata": {
        "id": "activated-gentleman"
      },
      "source": [
        "That's how you reverse a linked list!"
      ]
    },
    {
      "cell_type": "code",
      "execution_count": null,
      "id": "excess-transition",
      "metadata": {
        "id": "excess-transition"
      },
      "outputs": [],
      "source": [
        "import jovian"
      ]
    },
    {
      "cell_type": "code",
      "execution_count": null,
      "id": "comfortable-binary",
      "metadata": {
        "id": "comfortable-binary",
        "outputId": "b2b9cd3d-6862-4b48-f70d-eafde500f635"
      },
      "outputs": [
        {
          "data": {
            "application/javascript": [
              "window.require && require([\"base/js/namespace\"],function(Jupyter){Jupyter.notebook.save_checkpoint()})"
            ],
            "text/plain": [
              "<IPython.core.display.Javascript object>"
            ]
          },
          "metadata": {},
          "output_type": "display_data"
        },
        {
          "name": "stdout",
          "output_type": "stream",
          "text": [
            "[jovian] Attempting to save notebook..\u001b[0m\n"
          ]
        }
      ],
      "source": [
        "jovian.commit()"
      ]
    },
    {
      "cell_type": "code",
      "execution_count": null,
      "id": "logical-marketplace",
      "metadata": {
        "id": "logical-marketplace"
      },
      "outputs": [],
      "source": [
        ""
      ]
    }
  ],
  "metadata": {
    "kernelspec": {
      "display_name": "Python 3",
      "language": "python",
      "name": "python3"
    },
    "language_info": {
      "codemirror_mode": {
        "name": "ipython",
        "version": 3
      },
      "file_extension": ".py",
      "mimetype": "text/x-python",
      "name": "python",
      "nbconvert_exporter": "python",
      "pygments_lexer": "ipython3",
      "version": "3.6.12"
    },
    "colab": {
      "name": "python-classes-and-linked-lists.ipynb",
      "provenance": [],
      "include_colab_link": true
    }
  },
  "nbformat": 4,
  "nbformat_minor": 5
}